{
 "cells": [
  {
   "cell_type": "code",
   "execution_count": 3,
   "id": "601adbf5-934c-4d4d-b0fd-ad2a7ba2f82c",
   "metadata": {},
   "outputs": [
    {
     "name": "stdout",
     "output_type": "stream",
     "text": [
      "HELLO WORLD\n"
     ]
    }
   ],
   "source": [
    "print('HELLO WORLD')\n"
   ]
  },
  {
   "cell_type": "code",
   "execution_count": null,
   "id": "a0aea61a-5e6e-4284-8394-cb3b30136bbc",
   "metadata": {},
   "outputs": [],
   "source": [
    "# 1"
   ]
  },
  {
   "cell_type": "code",
   "execution_count": 4,
   "id": "076d9c8b-1aac-4ce0-b7c8-f20cf5caf1a0",
   "metadata": {},
   "outputs": [],
   "source": [
    "import numpy as np"
   ]
  },
  {
   "cell_type": "code",
   "execution_count": 5,
   "id": "52b162cf-5098-4a64-b78c-aac02068fcea",
   "metadata": {},
   "outputs": [],
   "source": [
    "df=np.random.randint(2,50,size=(5,4))"
   ]
  },
  {
   "cell_type": "code",
   "execution_count": 6,
   "id": "98044c9b-8a24-4fc1-b759-ad5e73e04d63",
   "metadata": {},
   "outputs": [
    {
     "name": "stdout",
     "output_type": "stream",
     "text": [
      "[[33  2 26  7]\n",
      " [47  3 46 40]\n",
      " [13  9 39 14]\n",
      " [13 41 38 28]\n",
      " [47 26 19  2]]\n"
     ]
    }
   ],
   "source": [
    "print(df)"
   ]
  },
  {
   "cell_type": "code",
   "execution_count": 7,
   "id": "66c9aac6-17c4-4bc8-9120-107dd9d05575",
   "metadata": {},
   "outputs": [],
   "source": [
    "r,c=df.shape"
   ]
  },
  {
   "cell_type": "code",
   "execution_count": 8,
   "id": "bb6c012b-3733-4bfa-8c5f-b23ecb16a413",
   "metadata": {},
   "outputs": [],
   "source": [
    "i=0\n",
    "diagonal_elements=[]\n",
    "for j in range(3,-1,-1):\n",
    "    diagonal_elements.append(df[i][j])\n",
    "    i+=1\n",
    "    \n",
    "    "
   ]
  },
  {
   "cell_type": "code",
   "execution_count": 9,
   "id": "e28c83f8-f352-49b6-bdf0-295d1f2cec16",
   "metadata": {},
   "outputs": [
    {
     "data": {
      "text/plain": [
       "[7, 46, 9, 13]"
      ]
     },
     "execution_count": 9,
     "metadata": {},
     "output_type": "execute_result"
    }
   ],
   "source": [
    "diagonal_elements"
   ]
  },
  {
   "cell_type": "code",
   "execution_count": 10,
   "id": "455308fa-7b2c-40df-bcf9-bd0b91c61992",
   "metadata": {},
   "outputs": [
    {
     "name": "stdout",
     "output_type": "stream",
     "text": [
      "33\n",
      "47\n",
      "39\n",
      "41\n",
      "47\n"
     ]
    }
   ],
   "source": [
    "for i in range(0,5):\n",
    "    \n",
    "    ab=df[i:5][:1]\n",
    "    print(np.max( ab))"
   ]
  },
  {
   "cell_type": "code",
   "execution_count": 11,
   "id": "54da5861-3065-4045-b54a-3f245fd2b8ac",
   "metadata": {},
   "outputs": [],
   "source": [
    "overall_mean=df.mean()"
   ]
  },
  {
   "cell_type": "code",
   "execution_count": 12,
   "id": "a355978c-3a35-4b3e-ad53-d0e77f30bd36",
   "metadata": {},
   "outputs": [],
   "source": [
    "matrix=df"
   ]
  },
  {
   "cell_type": "code",
   "execution_count": null,
   "id": "65d461cf-fab3-4e85-88c6-f9193155c844",
   "metadata": {},
   "outputs": [],
   "source": []
  },
  {
   "cell_type": "code",
   "execution_count": 13,
   "id": "783c06a5-fe5f-4a3e-922a-a72dbe3f6507",
   "metadata": {},
   "outputs": [],
   "source": [
    "new_element=[]\n",
    "\n",
    "for i in range(len(matrix)):  # Loop through rows\n",
    "    for j in range(len(matrix[i])):  # Loop through columns in each row\n",
    "        if matrix[i][j] <= overall_mean:\n",
    "            new_element.append(matrix[i][j])\n",
    "            \n",
    "        else:\n",
    "            pass"
   ]
  },
  {
   "cell_type": "code",
   "execution_count": 14,
   "id": "8575ccc1-746d-454b-b493-ec851e7a7cb1",
   "metadata": {},
   "outputs": [
    {
     "data": {
      "text/plain": [
       "[2, 7, 3, 13, 9, 14, 13, 19, 2]"
      ]
     },
     "execution_count": 14,
     "metadata": {},
     "output_type": "execute_result"
    }
   ],
   "source": [
    "new_element"
   ]
  },
  {
   "cell_type": "code",
   "execution_count": 15,
   "id": "01421e2c-b6d2-466c-97a7-1160ce5e6343",
   "metadata": {},
   "outputs": [],
   "source": [
    "def spiral(arr):\n",
    "    element=[]\n",
    "    row,coloumn=arr.shape\n",
    "    top,down=0,row-1\n",
    "    left,right=0,coloumn-1\n",
    "              \n",
    "          \n",
    "    for i in range(left,right+1):\n",
    "                element.append(arr[top][i])\n",
    "    top+=1       \n",
    "        \n",
    "    for j in range(top,down+1):\n",
    "               element.append(arr[j][right])\n",
    "    right-=1        \n",
    "    if top<=down:\n",
    "           for k in range(right,left-1,-1):\n",
    "               element.append(arr[down][k])\n",
    "    down-=1       \n",
    "    if left<=right:\n",
    "           for l in range(down,top-1,-1):\n",
    "               element.append(arr[l][left])\n",
    "              \n",
    "    return element"
   ]
  },
  {
   "cell_type": "code",
   "execution_count": 16,
   "id": "2ed68e9d-8528-45be-8488-384a31ab937d",
   "metadata": {},
   "outputs": [
    {
     "data": {
      "text/plain": [
       "[33, 2, 26, 7, 40, 14, 28, 2, 19, 26, 47, 13, 13, 47]"
      ]
     },
     "execution_count": 16,
     "metadata": {},
     "output_type": "execute_result"
    }
   ],
   "source": [
    "spiral(df)"
   ]
  },
  {
   "cell_type": "code",
   "execution_count": 17,
   "id": "b455433c-d9e8-4ae8-bc8e-59f7f720e36b",
   "metadata": {},
   "outputs": [
    {
     "data": {
      "text/plain": [
       "array([[33,  2, 26,  7],\n",
       "       [47,  3, 46, 40],\n",
       "       [13,  9, 39, 14],\n",
       "       [13, 41, 38, 28],\n",
       "       [47, 26, 19,  2]])"
      ]
     },
     "execution_count": 17,
     "metadata": {},
     "output_type": "execute_result"
    }
   ],
   "source": [
    "df"
   ]
  },
  {
   "cell_type": "code",
   "execution_count": null,
   "id": "8c1e0406-2521-48f0-8100-1c5817e1f476",
   "metadata": {},
   "outputs": [],
   "source": [
    "# 2"
   ]
  },
  {
   "cell_type": "code",
   "execution_count": 18,
   "id": "5fff1ffe-9f6a-41c9-9c09-1267ec8203b1",
   "metadata": {},
   "outputs": [],
   "source": [
    "df1=np.random.uniform(1,10,size=20)"
   ]
  },
  {
   "cell_type": "code",
   "execution_count": 19,
   "id": "38d4f560-5fcb-4596-8303-13d9fa282791",
   "metadata": {},
   "outputs": [],
   "source": [
    "dfnew=df1.round(2)"
   ]
  },
  {
   "cell_type": "code",
   "execution_count": 20,
   "id": "e04512d1-988e-40c8-8733-286b2d7f9c01",
   "metadata": {},
   "outputs": [
    {
     "data": {
      "text/plain": [
       "array([7.5 , 1.65, 9.36, 2.01, 7.14, 5.15, 3.88, 5.1 , 7.17, 7.52, 1.33,\n",
       "       7.31, 5.56, 6.  , 8.9 , 7.29, 5.62, 4.65, 2.36, 6.1 ])"
      ]
     },
     "execution_count": 20,
     "metadata": {},
     "output_type": "execute_result"
    }
   ],
   "source": [
    "dfnew"
   ]
  },
  {
   "cell_type": "code",
   "execution_count": 21,
   "id": "528d1739-7dd2-459c-be83-2bd1bc81b005",
   "metadata": {},
   "outputs": [
    {
     "data": {
      "text/plain": [
       "9.36"
      ]
     },
     "execution_count": 21,
     "metadata": {},
     "output_type": "execute_result"
    }
   ],
   "source": [
    "dfnew.max()"
   ]
  },
  {
   "cell_type": "code",
   "execution_count": 22,
   "id": "2fbab6ad-0013-46fc-8037-a7a01c8a8e75",
   "metadata": {},
   "outputs": [
    {
     "data": {
      "text/plain": [
       "1.33"
      ]
     },
     "execution_count": 22,
     "metadata": {},
     "output_type": "execute_result"
    }
   ],
   "source": [
    "dfnew.min()"
   ]
  },
  {
   "cell_type": "code",
   "execution_count": 23,
   "id": "dfa65ba9-b533-4c08-9e7c-3a2c69a23e19",
   "metadata": {},
   "outputs": [
    {
     "data": {
      "text/plain": [
       "5.8100000000000005"
      ]
     },
     "execution_count": 23,
     "metadata": {},
     "output_type": "execute_result"
    }
   ],
   "source": [
    "np.median(dfnew)"
   ]
  },
  {
   "cell_type": "code",
   "execution_count": 24,
   "id": "0d958480-d244-4301-b8fc-263322d2ccfd",
   "metadata": {},
   "outputs": [],
   "source": [
    "for i in range(len(dfnew)):\n",
    "    if dfnew[i]<5:\n",
    "        dfnew[i]=dfnew[i]*dfnew[i]\n",
    "    else:\n",
    "        pass"
   ]
  },
  {
   "cell_type": "code",
   "execution_count": 25,
   "id": "7477d8da-16a3-45c7-ba07-1bbcd55f3607",
   "metadata": {},
   "outputs": [
    {
     "data": {
      "text/plain": [
       "10"
      ]
     },
     "execution_count": 25,
     "metadata": {},
     "output_type": "execute_result"
    }
   ],
   "source": [
    "dfnew.argmin()"
   ]
  },
  {
   "cell_type": "code",
   "execution_count": 26,
   "id": "4265fdc5-cee0-41ec-90d5-c51f8dfc949f",
   "metadata": {},
   "outputs": [
    {
     "data": {
      "text/plain": [
       "array([ 7.5   ,  2.7225,  9.36  ,  4.0401,  7.14  ,  5.15  , 15.0544,\n",
       "        5.1   ,  7.17  ,  7.52  ,  1.7689,  7.31  ,  5.56  ,  6.    ,\n",
       "        8.9   ,  7.29  ,  5.62  , 21.6225,  5.5696,  6.1   ])"
      ]
     },
     "execution_count": 26,
     "metadata": {},
     "output_type": "execute_result"
    }
   ],
   "source": [
    "dfnew"
   ]
  },
  {
   "cell_type": "code",
   "execution_count": 27,
   "id": "85badc49-a8b0-4abe-b2db-749f99147942",
   "metadata": {},
   "outputs": [],
   "source": [
    "def sort_array(arr):\n",
    "    sorted_array=[]\n",
    "    while len(arr)>0:\n",
    "        p=arr.argmin()\n",
    "        sorted_array.append(arr[p])\n",
    "        arr=np.delete(arr,p)\n",
    "        if len(arr)>0:\n",
    "            \n",
    "            \n",
    "            q=arr.argmax()\n",
    "            sorted_array.append(arr[q])\n",
    "            arr=np.delete(arr,q)\n",
    "    return sorted_array    \n",
    "        \n",
    "        "
   ]
  },
  {
   "cell_type": "code",
   "execution_count": 28,
   "id": "0845d4e6-2d27-4f7a-a8dc-8d6568b04137",
   "metadata": {},
   "outputs": [
    {
     "data": {
      "text/plain": [
       "[1.7689000000000001,\n",
       " 21.622500000000002,\n",
       " 2.7224999999999997,\n",
       " 15.0544,\n",
       " 4.040099999999999,\n",
       " 9.36,\n",
       " 5.1,\n",
       " 8.9,\n",
       " 5.15,\n",
       " 7.52,\n",
       " 5.56,\n",
       " 7.5,\n",
       " 5.569599999999999,\n",
       " 7.31,\n",
       " 5.62,\n",
       " 7.29,\n",
       " 6.0,\n",
       " 7.17,\n",
       " 6.1,\n",
       " 7.14]"
      ]
     },
     "execution_count": 28,
     "metadata": {},
     "output_type": "execute_result"
    }
   ],
   "source": [
    "sort_array(dfnew)"
   ]
  },
  {
   "cell_type": "code",
   "execution_count": null,
   "id": "91d4b0c4-a4bd-4f8c-a302-ce74ce9cbd0a",
   "metadata": {},
   "outputs": [],
   "source": [
    "#3"
   ]
  },
  {
   "cell_type": "code",
   "execution_count": 33,
   "id": "ec4fd576-f27b-4af4-a718-03ee11e96349",
   "metadata": {
    "scrolled": true
   },
   "outputs": [],
   "source": [
    "dataframe=pd.DataFrame(np.random.randint(51,100,size=(10,3)))"
   ]
  },
  {
   "cell_type": "code",
   "execution_count": 34,
   "id": "6d6baad7-afc9-4413-bdc5-d56006af7d85",
   "metadata": {},
   "outputs": [],
   "source": [
    "import pandas as pd"
   ]
  },
  {
   "cell_type": "code",
   "execution_count": 35,
   "id": "19761852-c6d1-44f8-8549-968a08a6bc4a",
   "metadata": {},
   "outputs": [
    {
     "data": {
      "text/html": [
       "<div>\n",
       "<style scoped>\n",
       "    .dataframe tbody tr th:only-of-type {\n",
       "        vertical-align: middle;\n",
       "    }\n",
       "\n",
       "    .dataframe tbody tr th {\n",
       "        vertical-align: top;\n",
       "    }\n",
       "\n",
       "    .dataframe thead th {\n",
       "        text-align: right;\n",
       "    }\n",
       "</style>\n",
       "<table border=\"1\" class=\"dataframe\">\n",
       "  <thead>\n",
       "    <tr style=\"text-align: right;\">\n",
       "      <th></th>\n",
       "      <th>0</th>\n",
       "      <th>1</th>\n",
       "      <th>2</th>\n",
       "    </tr>\n",
       "  </thead>\n",
       "  <tbody>\n",
       "    <tr>\n",
       "      <th>0</th>\n",
       "      <td>74</td>\n",
       "      <td>96</td>\n",
       "      <td>85</td>\n",
       "    </tr>\n",
       "    <tr>\n",
       "      <th>1</th>\n",
       "      <td>55</td>\n",
       "      <td>89</td>\n",
       "      <td>71</td>\n",
       "    </tr>\n",
       "    <tr>\n",
       "      <th>2</th>\n",
       "      <td>70</td>\n",
       "      <td>88</td>\n",
       "      <td>56</td>\n",
       "    </tr>\n",
       "    <tr>\n",
       "      <th>3</th>\n",
       "      <td>81</td>\n",
       "      <td>77</td>\n",
       "      <td>99</td>\n",
       "    </tr>\n",
       "    <tr>\n",
       "      <th>4</th>\n",
       "      <td>63</td>\n",
       "      <td>92</td>\n",
       "      <td>68</td>\n",
       "    </tr>\n",
       "  </tbody>\n",
       "</table>\n",
       "</div>"
      ],
      "text/plain": [
       "    0   1   2\n",
       "0  74  96  85\n",
       "1  55  89  71\n",
       "2  70  88  56\n",
       "3  81  77  99\n",
       "4  63  92  68"
      ]
     },
     "execution_count": 35,
     "metadata": {},
     "output_type": "execute_result"
    }
   ],
   "source": [
    "dataframe.head()"
   ]
  },
  {
   "cell_type": "code",
   "execution_count": 36,
   "id": "137dfa83-cc89-410c-9435-dc73d5c8f819",
   "metadata": {},
   "outputs": [],
   "source": [
    "dataframe=dataframe.rename(columns={0:'Name',1:'Subject',2:'Score'})"
   ]
  },
  {
   "cell_type": "code",
   "execution_count": 37,
   "id": "1267b7ba-dbf7-40cc-8978-982e00a62071",
   "metadata": {},
   "outputs": [
    {
     "data": {
      "text/html": [
       "<div>\n",
       "<style scoped>\n",
       "    .dataframe tbody tr th:only-of-type {\n",
       "        vertical-align: middle;\n",
       "    }\n",
       "\n",
       "    .dataframe tbody tr th {\n",
       "        vertical-align: top;\n",
       "    }\n",
       "\n",
       "    .dataframe thead th {\n",
       "        text-align: right;\n",
       "    }\n",
       "</style>\n",
       "<table border=\"1\" class=\"dataframe\">\n",
       "  <thead>\n",
       "    <tr style=\"text-align: right;\">\n",
       "      <th></th>\n",
       "      <th>Name</th>\n",
       "      <th>Subject</th>\n",
       "      <th>Score</th>\n",
       "    </tr>\n",
       "  </thead>\n",
       "  <tbody>\n",
       "    <tr>\n",
       "      <th>0</th>\n",
       "      <td>74</td>\n",
       "      <td>96</td>\n",
       "      <td>85</td>\n",
       "    </tr>\n",
       "    <tr>\n",
       "      <th>1</th>\n",
       "      <td>55</td>\n",
       "      <td>89</td>\n",
       "      <td>71</td>\n",
       "    </tr>\n",
       "    <tr>\n",
       "      <th>2</th>\n",
       "      <td>70</td>\n",
       "      <td>88</td>\n",
       "      <td>56</td>\n",
       "    </tr>\n",
       "    <tr>\n",
       "      <th>3</th>\n",
       "      <td>81</td>\n",
       "      <td>77</td>\n",
       "      <td>99</td>\n",
       "    </tr>\n",
       "    <tr>\n",
       "      <th>4</th>\n",
       "      <td>63</td>\n",
       "      <td>92</td>\n",
       "      <td>68</td>\n",
       "    </tr>\n",
       "    <tr>\n",
       "      <th>5</th>\n",
       "      <td>75</td>\n",
       "      <td>56</td>\n",
       "      <td>53</td>\n",
       "    </tr>\n",
       "    <tr>\n",
       "      <th>6</th>\n",
       "      <td>78</td>\n",
       "      <td>80</td>\n",
       "      <td>85</td>\n",
       "    </tr>\n",
       "    <tr>\n",
       "      <th>7</th>\n",
       "      <td>61</td>\n",
       "      <td>83</td>\n",
       "      <td>78</td>\n",
       "    </tr>\n",
       "    <tr>\n",
       "      <th>8</th>\n",
       "      <td>73</td>\n",
       "      <td>81</td>\n",
       "      <td>59</td>\n",
       "    </tr>\n",
       "    <tr>\n",
       "      <th>9</th>\n",
       "      <td>89</td>\n",
       "      <td>87</td>\n",
       "      <td>97</td>\n",
       "    </tr>\n",
       "  </tbody>\n",
       "</table>\n",
       "</div>"
      ],
      "text/plain": [
       "   Name  Subject  Score\n",
       "0    74       96     85\n",
       "1    55       89     71\n",
       "2    70       88     56\n",
       "3    81       77     99\n",
       "4    63       92     68\n",
       "5    75       56     53\n",
       "6    78       80     85\n",
       "7    61       83     78\n",
       "8    73       81     59\n",
       "9    89       87     97"
      ]
     },
     "execution_count": 37,
     "metadata": {},
     "output_type": "execute_result"
    }
   ],
   "source": [
    "dataframe"
   ]
  },
  {
   "cell_type": "code",
   "execution_count": 130,
   "id": "081e07bb-c7be-4b65-b80e-7f6bf6f8031c",
   "metadata": {},
   "outputs": [
    {
     "name": "stderr",
     "output_type": "stream",
     "text": [
      "C:\\Users\\mahes\\AppData\\Local\\Temp\\ipykernel_62328\\498216382.py:4: FutureWarning: ChainedAssignmentError: behaviour will change in pandas 3.0!\n",
      "You are setting values through chained assignment. Currently this works in certain cases, but when using Copy-on-Write (which will become the default behaviour in pandas 3.0) this will never work to update the original DataFrame or Series, because the intermediate object on which we are setting values will behave as a copy.\n",
      "A typical example is when you are setting values in a column of a DataFrame, like:\n",
      "\n",
      "df[\"col\"][row_indexer] = value\n",
      "\n",
      "Use `df.loc[row_indexer, \"col\"] = values` instead, to perform the assignment in a single step and ensure this keeps updating the original `df`.\n",
      "\n",
      "See the caveats in the documentation: https://pandas.pydata.org/pandas-docs/stable/user_guide/indexing.html#returning-a-view-versus-a-copy\n",
      "\n",
      "  dataframe['grade'][i]='A'\n",
      "C:\\Users\\mahes\\AppData\\Local\\Temp\\ipykernel_62328\\498216382.py:4: SettingWithCopyWarning: \n",
      "A value is trying to be set on a copy of a slice from a DataFrame\n",
      "\n",
      "See the caveats in the documentation: https://pandas.pydata.org/pandas-docs/stable/user_guide/indexing.html#returning-a-view-versus-a-copy\n",
      "  dataframe['grade'][i]='A'\n",
      "C:\\Users\\mahes\\AppData\\Local\\Temp\\ipykernel_62328\\498216382.py:4: FutureWarning: ChainedAssignmentError: behaviour will change in pandas 3.0!\n",
      "You are setting values through chained assignment. Currently this works in certain cases, but when using Copy-on-Write (which will become the default behaviour in pandas 3.0) this will never work to update the original DataFrame or Series, because the intermediate object on which we are setting values will behave as a copy.\n",
      "A typical example is when you are setting values in a column of a DataFrame, like:\n",
      "\n",
      "df[\"col\"][row_indexer] = value\n",
      "\n",
      "Use `df.loc[row_indexer, \"col\"] = values` instead, to perform the assignment in a single step and ensure this keeps updating the original `df`.\n",
      "\n",
      "See the caveats in the documentation: https://pandas.pydata.org/pandas-docs/stable/user_guide/indexing.html#returning-a-view-versus-a-copy\n",
      "\n",
      "  dataframe['grade'][i]='A'\n",
      "C:\\Users\\mahes\\AppData\\Local\\Temp\\ipykernel_62328\\498216382.py:4: SettingWithCopyWarning: \n",
      "A value is trying to be set on a copy of a slice from a DataFrame\n",
      "\n",
      "See the caveats in the documentation: https://pandas.pydata.org/pandas-docs/stable/user_guide/indexing.html#returning-a-view-versus-a-copy\n",
      "  dataframe['grade'][i]='A'\n",
      "C:\\Users\\mahes\\AppData\\Local\\Temp\\ipykernel_62328\\498216382.py:6: FutureWarning: ChainedAssignmentError: behaviour will change in pandas 3.0!\n",
      "You are setting values through chained assignment. Currently this works in certain cases, but when using Copy-on-Write (which will become the default behaviour in pandas 3.0) this will never work to update the original DataFrame or Series, because the intermediate object on which we are setting values will behave as a copy.\n",
      "A typical example is when you are setting values in a column of a DataFrame, like:\n",
      "\n",
      "df[\"col\"][row_indexer] = value\n",
      "\n",
      "Use `df.loc[row_indexer, \"col\"] = values` instead, to perform the assignment in a single step and ensure this keeps updating the original `df`.\n",
      "\n",
      "See the caveats in the documentation: https://pandas.pydata.org/pandas-docs/stable/user_guide/indexing.html#returning-a-view-versus-a-copy\n",
      "\n",
      "  dataframe['grade'][i]='B'\n",
      "C:\\Users\\mahes\\AppData\\Local\\Temp\\ipykernel_62328\\498216382.py:6: SettingWithCopyWarning: \n",
      "A value is trying to be set on a copy of a slice from a DataFrame\n",
      "\n",
      "See the caveats in the documentation: https://pandas.pydata.org/pandas-docs/stable/user_guide/indexing.html#returning-a-view-versus-a-copy\n",
      "  dataframe['grade'][i]='B'\n",
      "C:\\Users\\mahes\\AppData\\Local\\Temp\\ipykernel_62328\\498216382.py:6: FutureWarning: ChainedAssignmentError: behaviour will change in pandas 3.0!\n",
      "You are setting values through chained assignment. Currently this works in certain cases, but when using Copy-on-Write (which will become the default behaviour in pandas 3.0) this will never work to update the original DataFrame or Series, because the intermediate object on which we are setting values will behave as a copy.\n",
      "A typical example is when you are setting values in a column of a DataFrame, like:\n",
      "\n",
      "df[\"col\"][row_indexer] = value\n",
      "\n",
      "Use `df.loc[row_indexer, \"col\"] = values` instead, to perform the assignment in a single step and ensure this keeps updating the original `df`.\n",
      "\n",
      "See the caveats in the documentation: https://pandas.pydata.org/pandas-docs/stable/user_guide/indexing.html#returning-a-view-versus-a-copy\n",
      "\n",
      "  dataframe['grade'][i]='B'\n",
      "C:\\Users\\mahes\\AppData\\Local\\Temp\\ipykernel_62328\\498216382.py:6: SettingWithCopyWarning: \n",
      "A value is trying to be set on a copy of a slice from a DataFrame\n",
      "\n",
      "See the caveats in the documentation: https://pandas.pydata.org/pandas-docs/stable/user_guide/indexing.html#returning-a-view-versus-a-copy\n",
      "  dataframe['grade'][i]='B'\n",
      "C:\\Users\\mahes\\AppData\\Local\\Temp\\ipykernel_62328\\498216382.py:8: FutureWarning: ChainedAssignmentError: behaviour will change in pandas 3.0!\n",
      "You are setting values through chained assignment. Currently this works in certain cases, but when using Copy-on-Write (which will become the default behaviour in pandas 3.0) this will never work to update the original DataFrame or Series, because the intermediate object on which we are setting values will behave as a copy.\n",
      "A typical example is when you are setting values in a column of a DataFrame, like:\n",
      "\n",
      "df[\"col\"][row_indexer] = value\n",
      "\n",
      "Use `df.loc[row_indexer, \"col\"] = values` instead, to perform the assignment in a single step and ensure this keeps updating the original `df`.\n",
      "\n",
      "See the caveats in the documentation: https://pandas.pydata.org/pandas-docs/stable/user_guide/indexing.html#returning-a-view-versus-a-copy\n",
      "\n",
      "  dataframe['grade'][i]='C'\n",
      "C:\\Users\\mahes\\AppData\\Local\\Temp\\ipykernel_62328\\498216382.py:8: SettingWithCopyWarning: \n",
      "A value is trying to be set on a copy of a slice from a DataFrame\n",
      "\n",
      "See the caveats in the documentation: https://pandas.pydata.org/pandas-docs/stable/user_guide/indexing.html#returning-a-view-versus-a-copy\n",
      "  dataframe['grade'][i]='C'\n",
      "C:\\Users\\mahes\\AppData\\Local\\Temp\\ipykernel_62328\\498216382.py:8: FutureWarning: ChainedAssignmentError: behaviour will change in pandas 3.0!\n",
      "You are setting values through chained assignment. Currently this works in certain cases, but when using Copy-on-Write (which will become the default behaviour in pandas 3.0) this will never work to update the original DataFrame or Series, because the intermediate object on which we are setting values will behave as a copy.\n",
      "A typical example is when you are setting values in a column of a DataFrame, like:\n",
      "\n",
      "df[\"col\"][row_indexer] = value\n",
      "\n",
      "Use `df.loc[row_indexer, \"col\"] = values` instead, to perform the assignment in a single step and ensure this keeps updating the original `df`.\n",
      "\n",
      "See the caveats in the documentation: https://pandas.pydata.org/pandas-docs/stable/user_guide/indexing.html#returning-a-view-versus-a-copy\n",
      "\n",
      "  dataframe['grade'][i]='C'\n",
      "C:\\Users\\mahes\\AppData\\Local\\Temp\\ipykernel_62328\\498216382.py:8: SettingWithCopyWarning: \n",
      "A value is trying to be set on a copy of a slice from a DataFrame\n",
      "\n",
      "See the caveats in the documentation: https://pandas.pydata.org/pandas-docs/stable/user_guide/indexing.html#returning-a-view-versus-a-copy\n",
      "  dataframe['grade'][i]='C'\n",
      "C:\\Users\\mahes\\AppData\\Local\\Temp\\ipykernel_62328\\498216382.py:12: FutureWarning: ChainedAssignmentError: behaviour will change in pandas 3.0!\n",
      "You are setting values through chained assignment. Currently this works in certain cases, but when using Copy-on-Write (which will become the default behaviour in pandas 3.0) this will never work to update the original DataFrame or Series, because the intermediate object on which we are setting values will behave as a copy.\n",
      "A typical example is when you are setting values in a column of a DataFrame, like:\n",
      "\n",
      "df[\"col\"][row_indexer] = value\n",
      "\n",
      "Use `df.loc[row_indexer, \"col\"] = values` instead, to perform the assignment in a single step and ensure this keeps updating the original `df`.\n",
      "\n",
      "See the caveats in the documentation: https://pandas.pydata.org/pandas-docs/stable/user_guide/indexing.html#returning-a-view-versus-a-copy\n",
      "\n",
      "  dataframe['grade'][i]='D'\n",
      "C:\\Users\\mahes\\AppData\\Local\\Temp\\ipykernel_62328\\498216382.py:12: SettingWithCopyWarning: \n",
      "A value is trying to be set on a copy of a slice from a DataFrame\n",
      "\n",
      "See the caveats in the documentation: https://pandas.pydata.org/pandas-docs/stable/user_guide/indexing.html#returning-a-view-versus-a-copy\n",
      "  dataframe['grade'][i]='D'\n",
      "C:\\Users\\mahes\\AppData\\Local\\Temp\\ipykernel_62328\\498216382.py:16: FutureWarning: ChainedAssignmentError: behaviour will change in pandas 3.0!\n",
      "You are setting values through chained assignment. Currently this works in certain cases, but when using Copy-on-Write (which will become the default behaviour in pandas 3.0) this will never work to update the original DataFrame or Series, because the intermediate object on which we are setting values will behave as a copy.\n",
      "A typical example is when you are setting values in a column of a DataFrame, like:\n",
      "\n",
      "df[\"col\"][row_indexer] = value\n",
      "\n",
      "Use `df.loc[row_indexer, \"col\"] = values` instead, to perform the assignment in a single step and ensure this keeps updating the original `df`.\n",
      "\n",
      "See the caveats in the documentation: https://pandas.pydata.org/pandas-docs/stable/user_guide/indexing.html#returning-a-view-versus-a-copy\n",
      "\n",
      "  dataframe['grade'][i]='F'\n",
      "C:\\Users\\mahes\\AppData\\Local\\Temp\\ipykernel_62328\\498216382.py:16: SettingWithCopyWarning: \n",
      "A value is trying to be set on a copy of a slice from a DataFrame\n",
      "\n",
      "See the caveats in the documentation: https://pandas.pydata.org/pandas-docs/stable/user_guide/indexing.html#returning-a-view-versus-a-copy\n",
      "  dataframe['grade'][i]='F'\n",
      "C:\\Users\\mahes\\AppData\\Local\\Temp\\ipykernel_62328\\498216382.py:16: FutureWarning: ChainedAssignmentError: behaviour will change in pandas 3.0!\n",
      "You are setting values through chained assignment. Currently this works in certain cases, but when using Copy-on-Write (which will become the default behaviour in pandas 3.0) this will never work to update the original DataFrame or Series, because the intermediate object on which we are setting values will behave as a copy.\n",
      "A typical example is when you are setting values in a column of a DataFrame, like:\n",
      "\n",
      "df[\"col\"][row_indexer] = value\n",
      "\n",
      "Use `df.loc[row_indexer, \"col\"] = values` instead, to perform the assignment in a single step and ensure this keeps updating the original `df`.\n",
      "\n",
      "See the caveats in the documentation: https://pandas.pydata.org/pandas-docs/stable/user_guide/indexing.html#returning-a-view-versus-a-copy\n",
      "\n",
      "  dataframe['grade'][i]='F'\n",
      "C:\\Users\\mahes\\AppData\\Local\\Temp\\ipykernel_62328\\498216382.py:16: SettingWithCopyWarning: \n",
      "A value is trying to be set on a copy of a slice from a DataFrame\n",
      "\n",
      "See the caveats in the documentation: https://pandas.pydata.org/pandas-docs/stable/user_guide/indexing.html#returning-a-view-versus-a-copy\n",
      "  dataframe['grade'][i]='F'\n",
      "C:\\Users\\mahes\\AppData\\Local\\Temp\\ipykernel_62328\\498216382.py:16: FutureWarning: ChainedAssignmentError: behaviour will change in pandas 3.0!\n",
      "You are setting values through chained assignment. Currently this works in certain cases, but when using Copy-on-Write (which will become the default behaviour in pandas 3.0) this will never work to update the original DataFrame or Series, because the intermediate object on which we are setting values will behave as a copy.\n",
      "A typical example is when you are setting values in a column of a DataFrame, like:\n",
      "\n",
      "df[\"col\"][row_indexer] = value\n",
      "\n",
      "Use `df.loc[row_indexer, \"col\"] = values` instead, to perform the assignment in a single step and ensure this keeps updating the original `df`.\n",
      "\n",
      "See the caveats in the documentation: https://pandas.pydata.org/pandas-docs/stable/user_guide/indexing.html#returning-a-view-versus-a-copy\n",
      "\n",
      "  dataframe['grade'][i]='F'\n",
      "C:\\Users\\mahes\\AppData\\Local\\Temp\\ipykernel_62328\\498216382.py:16: SettingWithCopyWarning: \n",
      "A value is trying to be set on a copy of a slice from a DataFrame\n",
      "\n",
      "See the caveats in the documentation: https://pandas.pydata.org/pandas-docs/stable/user_guide/indexing.html#returning-a-view-versus-a-copy\n",
      "  dataframe['grade'][i]='F'\n"
     ]
    }
   ],
   "source": [
    "dataframe['grade']=''\n",
    "for i in range(len(dataframe)):\n",
    "     if dataframe['Score'][i]>=90:\n",
    "         dataframe['grade'][i]='A'\n",
    "     elif dataframe['Score'][i]>=80:\n",
    "         dataframe['grade'][i]='B'\n",
    "     elif dataframe['Score'][i]>=70:\n",
    "         dataframe['grade'][i]='C'\n",
    "    \n",
    "     elif dataframe['Score'][i]>=60:\n",
    "         \n",
    "         dataframe['grade'][i]='D'\n",
    "     \n",
    "         \n",
    "     elif dataframe['Score'][i]<=59:\n",
    "         dataframe['grade'][i]='F'"
   ]
  },
  {
   "cell_type": "code",
   "execution_count": 39,
   "id": "58ccabfa-f7e1-43eb-9480-a957cc9a4a94",
   "metadata": {},
   "outputs": [
    {
     "data": {
      "text/plain": [
       "85"
      ]
     },
     "execution_count": 39,
     "metadata": {},
     "output_type": "execute_result"
    }
   ],
   "source": [
    "dataframe['Score'][0]"
   ]
  },
  {
   "cell_type": "code",
   "execution_count": 40,
   "id": "7d6520a1-0cd1-471e-b81d-1dd214979662",
   "metadata": {},
   "outputs": [
    {
     "data": {
      "text/plain": [
       "10"
      ]
     },
     "execution_count": 40,
     "metadata": {},
     "output_type": "execute_result"
    }
   ],
   "source": [
    "len(dataframe)"
   ]
  },
  {
   "cell_type": "code",
   "execution_count": 41,
   "id": "c2d894df-96b0-470c-947f-56ce4e6555ab",
   "metadata": {},
   "outputs": [
    {
     "data": {
      "text/html": [
       "<div>\n",
       "<style scoped>\n",
       "    .dataframe tbody tr th:only-of-type {\n",
       "        vertical-align: middle;\n",
       "    }\n",
       "\n",
       "    .dataframe tbody tr th {\n",
       "        vertical-align: top;\n",
       "    }\n",
       "\n",
       "    .dataframe thead th {\n",
       "        text-align: right;\n",
       "    }\n",
       "</style>\n",
       "<table border=\"1\" class=\"dataframe\">\n",
       "  <thead>\n",
       "    <tr style=\"text-align: right;\">\n",
       "      <th></th>\n",
       "      <th>Name</th>\n",
       "      <th>Subject</th>\n",
       "      <th>Score</th>\n",
       "      <th>grade</th>\n",
       "    </tr>\n",
       "  </thead>\n",
       "  <tbody>\n",
       "    <tr>\n",
       "      <th>0</th>\n",
       "      <td>74</td>\n",
       "      <td>96</td>\n",
       "      <td>85</td>\n",
       "      <td>B</td>\n",
       "    </tr>\n",
       "    <tr>\n",
       "      <th>1</th>\n",
       "      <td>55</td>\n",
       "      <td>89</td>\n",
       "      <td>71</td>\n",
       "      <td>C</td>\n",
       "    </tr>\n",
       "    <tr>\n",
       "      <th>2</th>\n",
       "      <td>70</td>\n",
       "      <td>88</td>\n",
       "      <td>56</td>\n",
       "      <td>F</td>\n",
       "    </tr>\n",
       "    <tr>\n",
       "      <th>3</th>\n",
       "      <td>81</td>\n",
       "      <td>77</td>\n",
       "      <td>99</td>\n",
       "      <td>A</td>\n",
       "    </tr>\n",
       "    <tr>\n",
       "      <th>4</th>\n",
       "      <td>63</td>\n",
       "      <td>92</td>\n",
       "      <td>68</td>\n",
       "      <td>D</td>\n",
       "    </tr>\n",
       "    <tr>\n",
       "      <th>5</th>\n",
       "      <td>75</td>\n",
       "      <td>56</td>\n",
       "      <td>53</td>\n",
       "      <td>F</td>\n",
       "    </tr>\n",
       "    <tr>\n",
       "      <th>6</th>\n",
       "      <td>78</td>\n",
       "      <td>80</td>\n",
       "      <td>85</td>\n",
       "      <td>B</td>\n",
       "    </tr>\n",
       "    <tr>\n",
       "      <th>7</th>\n",
       "      <td>61</td>\n",
       "      <td>83</td>\n",
       "      <td>78</td>\n",
       "      <td>C</td>\n",
       "    </tr>\n",
       "    <tr>\n",
       "      <th>8</th>\n",
       "      <td>73</td>\n",
       "      <td>81</td>\n",
       "      <td>59</td>\n",
       "      <td>F</td>\n",
       "    </tr>\n",
       "    <tr>\n",
       "      <th>9</th>\n",
       "      <td>89</td>\n",
       "      <td>87</td>\n",
       "      <td>97</td>\n",
       "      <td>A</td>\n",
       "    </tr>\n",
       "  </tbody>\n",
       "</table>\n",
       "</div>"
      ],
      "text/plain": [
       "   Name  Subject  Score grade\n",
       "0    74       96     85     B\n",
       "1    55       89     71     C\n",
       "2    70       88     56     F\n",
       "3    81       77     99     A\n",
       "4    63       92     68     D\n",
       "5    75       56     53     F\n",
       "6    78       80     85     B\n",
       "7    61       83     78     C\n",
       "8    73       81     59     F\n",
       "9    89       87     97     A"
      ]
     },
     "execution_count": 41,
     "metadata": {},
     "output_type": "execute_result"
    }
   ],
   "source": [
    "dataframe"
   ]
  },
  {
   "cell_type": "code",
   "execution_count": 42,
   "id": "dd9d23e9-9893-453f-99ed-fd7327540ed3",
   "metadata": {},
   "outputs": [],
   "source": [
    "dataframe=dataframe.sort_values(by='Score', ascending=False).reset_index()"
   ]
  },
  {
   "cell_type": "code",
   "execution_count": 43,
   "id": "77f9f53f-5c4b-4dc8-a23d-3aee5a01e2cd",
   "metadata": {},
   "outputs": [
    {
     "data": {
      "text/html": [
       "<div>\n",
       "<style scoped>\n",
       "    .dataframe tbody tr th:only-of-type {\n",
       "        vertical-align: middle;\n",
       "    }\n",
       "\n",
       "    .dataframe tbody tr th {\n",
       "        vertical-align: top;\n",
       "    }\n",
       "\n",
       "    .dataframe thead th {\n",
       "        text-align: right;\n",
       "    }\n",
       "</style>\n",
       "<table border=\"1\" class=\"dataframe\">\n",
       "  <thead>\n",
       "    <tr style=\"text-align: right;\">\n",
       "      <th></th>\n",
       "      <th>index</th>\n",
       "      <th>Name</th>\n",
       "      <th>Subject</th>\n",
       "      <th>Score</th>\n",
       "      <th>grade</th>\n",
       "    </tr>\n",
       "  </thead>\n",
       "  <tbody>\n",
       "    <tr>\n",
       "      <th>0</th>\n",
       "      <td>3</td>\n",
       "      <td>81</td>\n",
       "      <td>77</td>\n",
       "      <td>99</td>\n",
       "      <td>A</td>\n",
       "    </tr>\n",
       "    <tr>\n",
       "      <th>1</th>\n",
       "      <td>9</td>\n",
       "      <td>89</td>\n",
       "      <td>87</td>\n",
       "      <td>97</td>\n",
       "      <td>A</td>\n",
       "    </tr>\n",
       "    <tr>\n",
       "      <th>2</th>\n",
       "      <td>0</td>\n",
       "      <td>74</td>\n",
       "      <td>96</td>\n",
       "      <td>85</td>\n",
       "      <td>B</td>\n",
       "    </tr>\n",
       "    <tr>\n",
       "      <th>3</th>\n",
       "      <td>6</td>\n",
       "      <td>78</td>\n",
       "      <td>80</td>\n",
       "      <td>85</td>\n",
       "      <td>B</td>\n",
       "    </tr>\n",
       "    <tr>\n",
       "      <th>4</th>\n",
       "      <td>7</td>\n",
       "      <td>61</td>\n",
       "      <td>83</td>\n",
       "      <td>78</td>\n",
       "      <td>C</td>\n",
       "    </tr>\n",
       "    <tr>\n",
       "      <th>5</th>\n",
       "      <td>1</td>\n",
       "      <td>55</td>\n",
       "      <td>89</td>\n",
       "      <td>71</td>\n",
       "      <td>C</td>\n",
       "    </tr>\n",
       "    <tr>\n",
       "      <th>6</th>\n",
       "      <td>4</td>\n",
       "      <td>63</td>\n",
       "      <td>92</td>\n",
       "      <td>68</td>\n",
       "      <td>D</td>\n",
       "    </tr>\n",
       "    <tr>\n",
       "      <th>7</th>\n",
       "      <td>8</td>\n",
       "      <td>73</td>\n",
       "      <td>81</td>\n",
       "      <td>59</td>\n",
       "      <td>F</td>\n",
       "    </tr>\n",
       "    <tr>\n",
       "      <th>8</th>\n",
       "      <td>2</td>\n",
       "      <td>70</td>\n",
       "      <td>88</td>\n",
       "      <td>56</td>\n",
       "      <td>F</td>\n",
       "    </tr>\n",
       "    <tr>\n",
       "      <th>9</th>\n",
       "      <td>5</td>\n",
       "      <td>75</td>\n",
       "      <td>56</td>\n",
       "      <td>53</td>\n",
       "      <td>F</td>\n",
       "    </tr>\n",
       "  </tbody>\n",
       "</table>\n",
       "</div>"
      ],
      "text/plain": [
       "   index  Name  Subject  Score grade\n",
       "0      3    81       77     99     A\n",
       "1      9    89       87     97     A\n",
       "2      0    74       96     85     B\n",
       "3      6    78       80     85     B\n",
       "4      7    61       83     78     C\n",
       "5      1    55       89     71     C\n",
       "6      4    63       92     68     D\n",
       "7      8    73       81     59     F\n",
       "8      2    70       88     56     F\n",
       "9      5    75       56     53     F"
      ]
     },
     "execution_count": 43,
     "metadata": {},
     "output_type": "execute_result"
    }
   ],
   "source": [
    "dataframe"
   ]
  },
  {
   "cell_type": "code",
   "execution_count": 46,
   "id": "4ea1b6d2-0b8a-45d0-8dc9-a97804d978dc",
   "metadata": {},
   "outputs": [],
   "source": [
    "def filterpass(dataframe):\n",
    "    \n",
    "    \n",
    "    \n",
    "     filterdataframe=dataframe[(dataframe['grade']=='A') |  (dataframe['grade']=='B')]\n",
    "     return filterdataframe"
   ]
  },
  {
   "cell_type": "code",
   "execution_count": 47,
   "id": "2f8f59c1-3227-4305-9ad4-bf7842335fa1",
   "metadata": {},
   "outputs": [
    {
     "data": {
      "text/html": [
       "<div>\n",
       "<style scoped>\n",
       "    .dataframe tbody tr th:only-of-type {\n",
       "        vertical-align: middle;\n",
       "    }\n",
       "\n",
       "    .dataframe tbody tr th {\n",
       "        vertical-align: top;\n",
       "    }\n",
       "\n",
       "    .dataframe thead th {\n",
       "        text-align: right;\n",
       "    }\n",
       "</style>\n",
       "<table border=\"1\" class=\"dataframe\">\n",
       "  <thead>\n",
       "    <tr style=\"text-align: right;\">\n",
       "      <th></th>\n",
       "      <th>index</th>\n",
       "      <th>Name</th>\n",
       "      <th>Subject</th>\n",
       "      <th>Score</th>\n",
       "      <th>grade</th>\n",
       "    </tr>\n",
       "  </thead>\n",
       "  <tbody>\n",
       "    <tr>\n",
       "      <th>0</th>\n",
       "      <td>3</td>\n",
       "      <td>81</td>\n",
       "      <td>77</td>\n",
       "      <td>99</td>\n",
       "      <td>A</td>\n",
       "    </tr>\n",
       "    <tr>\n",
       "      <th>1</th>\n",
       "      <td>9</td>\n",
       "      <td>89</td>\n",
       "      <td>87</td>\n",
       "      <td>97</td>\n",
       "      <td>A</td>\n",
       "    </tr>\n",
       "    <tr>\n",
       "      <th>2</th>\n",
       "      <td>0</td>\n",
       "      <td>74</td>\n",
       "      <td>96</td>\n",
       "      <td>85</td>\n",
       "      <td>B</td>\n",
       "    </tr>\n",
       "    <tr>\n",
       "      <th>3</th>\n",
       "      <td>6</td>\n",
       "      <td>78</td>\n",
       "      <td>80</td>\n",
       "      <td>85</td>\n",
       "      <td>B</td>\n",
       "    </tr>\n",
       "  </tbody>\n",
       "</table>\n",
       "</div>"
      ],
      "text/plain": [
       "   index  Name  Subject  Score grade\n",
       "0      3    81       77     99     A\n",
       "1      9    89       87     97     A\n",
       "2      0    74       96     85     B\n",
       "3      6    78       80     85     B"
      ]
     },
     "execution_count": 47,
     "metadata": {},
     "output_type": "execute_result"
    }
   ],
   "source": [
    "filterpass(dataframe)"
   ]
  },
  {
   "cell_type": "markdown",
   "id": "96e6b50f-3ded-4335-b99d-68241ac8cd8a",
   "metadata": {},
   "source": [
    "#YOU CAN ACTUALLY CALCULATE THE MEAN OF THE SUCJECT BY FILTERING THE REQUIRED SUBJECT AND GET ITS MEAN BY MEAN FUNCTION I COULDN'T DO HERE DUE TO DIFFERENT DATA SET\n"
   ]
  },
  {
   "cell_type": "code",
   "execution_count": null,
   "id": "034bb18f-28f8-4ec2-9845-28dab326b42c",
   "metadata": {},
   "outputs": [],
   "source": [
    "# 4"
   ]
  },
  {
   "cell_type": "code",
   "execution_count": 48,
   "id": "bf1052eb-a4ec-4729-a6e0-cc7228d35cc3",
   "metadata": {},
   "outputs": [],
   "source": [
    "reviews=pd.read_csv('REVIEWS.csv')"
   ]
  },
  {
   "cell_type": "code",
   "execution_count": 49,
   "id": "f3587f25-ec10-422b-a1b5-cb1957e61031",
   "metadata": {},
   "outputs": [
    {
     "name": "stdout",
     "output_type": "stream",
     "text": [
      "<class 'pandas.core.frame.DataFrame'>\n",
      "RangeIndex: 5450 entries, 0 to 5449\n",
      "Data columns (total 5 columns):\n",
      " #   Column  Non-Null Count  Dtype \n",
      "---  ------  --------------  ----- \n",
      " 0   ID      5450 non-null   int64 \n",
      " 1   REVIEW  5450 non-null   object\n",
      " 2   RATING  5450 non-null   object\n",
      " 3   AUTHOR  5450 non-null   object\n",
      " 4   TITLE   5450 non-null   object\n",
      "dtypes: int64(1), object(4)\n",
      "memory usage: 213.0+ KB\n"
     ]
    }
   ],
   "source": [
    "reviews.info()\n"
   ]
  },
  {
   "cell_type": "code",
   "execution_count": 50,
   "id": "67e205fd-b603-4d89-8e88-38635d9d4c77",
   "metadata": {},
   "outputs": [],
   "source": [
    "POSITIVE=reviews[(reviews['RATING']=='10')|(reviews['RATING']=='9')|(reviews['RATING']=='8')].reset_index()"
   ]
  },
  {
   "cell_type": "code",
   "execution_count": 51,
   "id": "98462212-fe05-4f44-ac3f-a78f945ca39c",
   "metadata": {},
   "outputs": [],
   "source": [
    "positive=POSITIVE.head(50)"
   ]
  },
  {
   "cell_type": "code",
   "execution_count": 52,
   "id": "96f21822-85d5-47ef-8d57-f41acf3f7d28",
   "metadata": {},
   "outputs": [],
   "source": [
    "NEGATIVE=reviews[(reviews['RATING']=='3')|(reviews['RATING']=='1')|(reviews['RATING']=='2')].reset_index()"
   ]
  },
  {
   "cell_type": "code",
   "execution_count": 53,
   "id": "9529c9ad-d7a0-4ab5-ba99-c7ec476e958b",
   "metadata": {},
   "outputs": [],
   "source": [
    "negative=NEGATIVE.head(50)"
   ]
  },
  {
   "cell_type": "code",
   "execution_count": 54,
   "id": "7e4a7faa-12e5-4c33-aa9c-4a14694817e1",
   "metadata": {},
   "outputs": [],
   "source": [
    "ultimate=pd.concat([positive,negative],axis=0,ignore_index=True,join='outer')"
   ]
  },
  {
   "cell_type": "code",
   "execution_count": 55,
   "id": "7fcf84ec-d2a3-4e24-b5fd-98349857fb57",
   "metadata": {},
   "outputs": [
    {
     "data": {
      "text/html": [
       "<div>\n",
       "<style scoped>\n",
       "    .dataframe tbody tr th:only-of-type {\n",
       "        vertical-align: middle;\n",
       "    }\n",
       "\n",
       "    .dataframe tbody tr th {\n",
       "        vertical-align: top;\n",
       "    }\n",
       "\n",
       "    .dataframe thead th {\n",
       "        text-align: right;\n",
       "    }\n",
       "</style>\n",
       "<table border=\"1\" class=\"dataframe\">\n",
       "  <thead>\n",
       "    <tr style=\"text-align: right;\">\n",
       "      <th></th>\n",
       "      <th>index</th>\n",
       "      <th>ID</th>\n",
       "      <th>REVIEW</th>\n",
       "      <th>RATING</th>\n",
       "      <th>AUTHOR</th>\n",
       "      <th>TITLE</th>\n",
       "    </tr>\n",
       "  </thead>\n",
       "  <tbody>\n",
       "    <tr>\n",
       "      <th>95</th>\n",
       "      <td>135</td>\n",
       "      <td>136</td>\n",
       "      <td>A truly awful outing for Snyder. Thin dumb plo...</td>\n",
       "      <td>2</td>\n",
       "      <td>leewelton-81877</td>\n",
       "      <td>Needs a quick headshot to put it out of its m...</td>\n",
       "    </tr>\n",
       "    <tr>\n",
       "      <th>96</th>\n",
       "      <td>136</td>\n",
       "      <td>137</td>\n",
       "      <td>Besides being a beat for beat, and markedly in...</td>\n",
       "      <td>1</td>\n",
       "      <td>aerie124</td>\n",
       "      <td>This movie insults your intelligence - this m...</td>\n",
       "    </tr>\n",
       "    <tr>\n",
       "      <th>97</th>\n",
       "      <td>137</td>\n",
       "      <td>138</td>\n",
       "      <td>If the blood is so valuable - why not just sen...</td>\n",
       "      <td>3</td>\n",
       "      <td>amw-30184</td>\n",
       "      <td>2.5 hours of plot holes and questions.\\n</td>\n",
       "    </tr>\n",
       "    <tr>\n",
       "      <th>98</th>\n",
       "      <td>138</td>\n",
       "      <td>139</td>\n",
       "      <td>I don't bother with trailers and previews so t...</td>\n",
       "      <td>3</td>\n",
       "      <td>pizzadudes</td>\n",
       "      <td>Disappointing\\n</td>\n",
       "    </tr>\n",
       "    <tr>\n",
       "      <th>99</th>\n",
       "      <td>139</td>\n",
       "      <td>140</td>\n",
       "      <td>I rated it 2/10 just because of the stunning v...</td>\n",
       "      <td>2</td>\n",
       "      <td>nadiaafreendiba</td>\n",
       "      <td>The worst from Snyder yet\\n</td>\n",
       "    </tr>\n",
       "  </tbody>\n",
       "</table>\n",
       "</div>"
      ],
      "text/plain": [
       "    index   ID                                             REVIEW RATING  \\\n",
       "95    135  136  A truly awful outing for Snyder. Thin dumb plo...      2   \n",
       "96    136  137  Besides being a beat for beat, and markedly in...      1   \n",
       "97    137  138  If the blood is so valuable - why not just sen...      3   \n",
       "98    138  139  I don't bother with trailers and previews so t...      3   \n",
       "99    139  140  I rated it 2/10 just because of the stunning v...      2   \n",
       "\n",
       "             AUTHOR                                              TITLE  \n",
       "95  leewelton-81877   Needs a quick headshot to put it out of its m...  \n",
       "96         aerie124   This movie insults your intelligence - this m...  \n",
       "97        amw-30184           2.5 hours of plot holes and questions.\\n  \n",
       "98       pizzadudes                                    Disappointing\\n  \n",
       "99  nadiaafreendiba                        The worst from Snyder yet\\n  "
      ]
     },
     "execution_count": 55,
     "metadata": {},
     "output_type": "execute_result"
    }
   ],
   "source": [
    "ultimate.tail()"
   ]
  },
  {
   "cell_type": "code",
   "execution_count": 56,
   "id": "0c2c207b-cfab-48a4-9fc6-1732a6c18b80",
   "metadata": {},
   "outputs": [],
   "source": [
    "ultimate=ultimate.drop(['index','ID','AUTHOR','TITLE'],axis=1)"
   ]
  },
  {
   "cell_type": "code",
   "execution_count": 57,
   "id": "d47733dd-9056-4e5c-9941-6082b4cacbf4",
   "metadata": {},
   "outputs": [
    {
     "data": {
      "text/html": [
       "<div>\n",
       "<style scoped>\n",
       "    .dataframe tbody tr th:only-of-type {\n",
       "        vertical-align: middle;\n",
       "    }\n",
       "\n",
       "    .dataframe tbody tr th {\n",
       "        vertical-align: top;\n",
       "    }\n",
       "\n",
       "    .dataframe thead th {\n",
       "        text-align: right;\n",
       "    }\n",
       "</style>\n",
       "<table border=\"1\" class=\"dataframe\">\n",
       "  <thead>\n",
       "    <tr style=\"text-align: right;\">\n",
       "      <th></th>\n",
       "      <th>REVIEW</th>\n",
       "      <th>RATING</th>\n",
       "    </tr>\n",
       "  </thead>\n",
       "  <tbody>\n",
       "    <tr>\n",
       "      <th>0</th>\n",
       "      <td>I cannot believe anyone could give this film l...</td>\n",
       "      <td>8</td>\n",
       "    </tr>\n",
       "    <tr>\n",
       "      <th>1</th>\n",
       "      <td>Much better than the ratings suggest. Its on p...</td>\n",
       "      <td>9</td>\n",
       "    </tr>\n",
       "    <tr>\n",
       "      <th>2</th>\n",
       "      <td>Okay so first I am a big fan of shark movies. ...</td>\n",
       "      <td>8</td>\n",
       "    </tr>\n",
       "    <tr>\n",
       "      <th>3</th>\n",
       "      <td>Another shark tale.. But much better than most...</td>\n",
       "      <td>8</td>\n",
       "    </tr>\n",
       "    <tr>\n",
       "      <th>4</th>\n",
       "      <td>All those that gave this less than a 5 are idi...</td>\n",
       "      <td>10</td>\n",
       "    </tr>\n",
       "    <tr>\n",
       "      <th>...</th>\n",
       "      <td>...</td>\n",
       "      <td>...</td>\n",
       "    </tr>\n",
       "    <tr>\n",
       "      <th>95</th>\n",
       "      <td>A truly awful outing for Snyder. Thin dumb plo...</td>\n",
       "      <td>2</td>\n",
       "    </tr>\n",
       "    <tr>\n",
       "      <th>96</th>\n",
       "      <td>Besides being a beat for beat, and markedly in...</td>\n",
       "      <td>1</td>\n",
       "    </tr>\n",
       "    <tr>\n",
       "      <th>97</th>\n",
       "      <td>If the blood is so valuable - why not just sen...</td>\n",
       "      <td>3</td>\n",
       "    </tr>\n",
       "    <tr>\n",
       "      <th>98</th>\n",
       "      <td>I don't bother with trailers and previews so t...</td>\n",
       "      <td>3</td>\n",
       "    </tr>\n",
       "    <tr>\n",
       "      <th>99</th>\n",
       "      <td>I rated it 2/10 just because of the stunning v...</td>\n",
       "      <td>2</td>\n",
       "    </tr>\n",
       "  </tbody>\n",
       "</table>\n",
       "<p>100 rows × 2 columns</p>\n",
       "</div>"
      ],
      "text/plain": [
       "                                               REVIEW RATING\n",
       "0   I cannot believe anyone could give this film l...      8\n",
       "1   Much better than the ratings suggest. Its on p...      9\n",
       "2   Okay so first I am a big fan of shark movies. ...      8\n",
       "3   Another shark tale.. But much better than most...      8\n",
       "4   All those that gave this less than a 5 are idi...     10\n",
       "..                                                ...    ...\n",
       "95  A truly awful outing for Snyder. Thin dumb plo...      2\n",
       "96  Besides being a beat for beat, and markedly in...      1\n",
       "97  If the blood is so valuable - why not just sen...      3\n",
       "98  I don't bother with trailers and previews so t...      3\n",
       "99  I rated it 2/10 just because of the stunning v...      2\n",
       "\n",
       "[100 rows x 2 columns]"
      ]
     },
     "execution_count": 57,
     "metadata": {},
     "output_type": "execute_result"
    }
   ],
   "source": [
    "ultimate"
   ]
  },
  {
   "cell_type": "code",
   "execution_count": 58,
   "id": "f4b17885-bced-4d2e-8d2c-ce7979489c36",
   "metadata": {},
   "outputs": [
    {
     "name": "stdout",
     "output_type": "stream",
     "text": [
      "<class 'pandas.core.frame.DataFrame'>\n",
      "RangeIndex: 100 entries, 0 to 99\n",
      "Data columns (total 2 columns):\n",
      " #   Column  Non-Null Count  Dtype \n",
      "---  ------  --------------  ----- \n",
      " 0   REVIEW  100 non-null    object\n",
      " 1   RATING  100 non-null    object\n",
      "dtypes: object(2)\n",
      "memory usage: 1.7+ KB\n"
     ]
    }
   ],
   "source": [
    "ultimate.info()"
   ]
  },
  {
   "cell_type": "code",
   "execution_count": 59,
   "id": "60d3abda-27d8-4783-b3d4-6942a28d763a",
   "metadata": {},
   "outputs": [
    {
     "data": {
      "text/html": [
       "<div>\n",
       "<style scoped>\n",
       "    .dataframe tbody tr th:only-of-type {\n",
       "        vertical-align: middle;\n",
       "    }\n",
       "\n",
       "    .dataframe tbody tr th {\n",
       "        vertical-align: top;\n",
       "    }\n",
       "\n",
       "    .dataframe thead th {\n",
       "        text-align: right;\n",
       "    }\n",
       "</style>\n",
       "<table border=\"1\" class=\"dataframe\">\n",
       "  <thead>\n",
       "    <tr style=\"text-align: right;\">\n",
       "      <th></th>\n",
       "      <th>REVIEW</th>\n",
       "      <th>RATING</th>\n",
       "    </tr>\n",
       "  </thead>\n",
       "  <tbody>\n",
       "    <tr>\n",
       "      <th>0</th>\n",
       "      <td>I cannot believe anyone could give this film l...</td>\n",
       "      <td>8</td>\n",
       "    </tr>\n",
       "    <tr>\n",
       "      <th>1</th>\n",
       "      <td>Much better than the ratings suggest. Its on p...</td>\n",
       "      <td>9</td>\n",
       "    </tr>\n",
       "    <tr>\n",
       "      <th>2</th>\n",
       "      <td>Okay so first I am a big fan of shark movies. ...</td>\n",
       "      <td>8</td>\n",
       "    </tr>\n",
       "    <tr>\n",
       "      <th>3</th>\n",
       "      <td>Another shark tale.. But much better than most...</td>\n",
       "      <td>8</td>\n",
       "    </tr>\n",
       "    <tr>\n",
       "      <th>4</th>\n",
       "      <td>All those that gave this less than a 5 are idi...</td>\n",
       "      <td>10</td>\n",
       "    </tr>\n",
       "  </tbody>\n",
       "</table>\n",
       "</div>"
      ],
      "text/plain": [
       "                                              REVIEW RATING\n",
       "0  I cannot believe anyone could give this film l...      8\n",
       "1  Much better than the ratings suggest. Its on p...      9\n",
       "2  Okay so first I am a big fan of shark movies. ...      8\n",
       "3  Another shark tale.. But much better than most...      8\n",
       "4  All those that gave this less than a 5 are idi...     10"
      ]
     },
     "execution_count": 59,
     "metadata": {},
     "output_type": "execute_result"
    }
   ],
   "source": [
    "ultimate.head()"
   ]
  },
  {
   "cell_type": "code",
   "execution_count": 60,
   "id": "be40a7be-0352-4f80-b624-1fce78b0d61b",
   "metadata": {},
   "outputs": [],
   "source": [
    "ultimate['RATING'] = pd.to_numeric(ultimate['RATING'], errors='coerce')"
   ]
  },
  {
   "cell_type": "code",
   "execution_count": 129,
   "id": "d34fcd1a-97dc-4c63-b187-15c5eaa19218",
   "metadata": {},
   "outputs": [
    {
     "ename": "KeyError",
     "evalue": "'RATING'",
     "output_type": "error",
     "traceback": [
      "\u001b[1;31m---------------------------------------------------------------------------\u001b[0m",
      "\u001b[1;31mKeyError\u001b[0m                                  Traceback (most recent call last)",
      "File \u001b[1;32m~\\anaconda3\\Lib\\site-packages\\pandas\\core\\indexes\\base.py:3805\u001b[0m, in \u001b[0;36mIndex.get_loc\u001b[1;34m(self, key)\u001b[0m\n\u001b[0;32m   3804\u001b[0m \u001b[38;5;28;01mtry\u001b[39;00m:\n\u001b[1;32m-> 3805\u001b[0m     \u001b[38;5;28;01mreturn\u001b[39;00m \u001b[38;5;28mself\u001b[39m\u001b[38;5;241m.\u001b[39m_engine\u001b[38;5;241m.\u001b[39mget_loc(casted_key)\n\u001b[0;32m   3806\u001b[0m \u001b[38;5;28;01mexcept\u001b[39;00m \u001b[38;5;167;01mKeyError\u001b[39;00m \u001b[38;5;28;01mas\u001b[39;00m err:\n",
      "File \u001b[1;32mindex.pyx:167\u001b[0m, in \u001b[0;36mpandas._libs.index.IndexEngine.get_loc\u001b[1;34m()\u001b[0m\n",
      "File \u001b[1;32mindex.pyx:196\u001b[0m, in \u001b[0;36mpandas._libs.index.IndexEngine.get_loc\u001b[1;34m()\u001b[0m\n",
      "File \u001b[1;32mpandas\\\\_libs\\\\hashtable_class_helper.pxi:7081\u001b[0m, in \u001b[0;36mpandas._libs.hashtable.PyObjectHashTable.get_item\u001b[1;34m()\u001b[0m\n",
      "File \u001b[1;32mpandas\\\\_libs\\\\hashtable_class_helper.pxi:7089\u001b[0m, in \u001b[0;36mpandas._libs.hashtable.PyObjectHashTable.get_item\u001b[1;34m()\u001b[0m\n",
      "\u001b[1;31mKeyError\u001b[0m: 'RATING'",
      "\nThe above exception was the direct cause of the following exception:\n",
      "\u001b[1;31mKeyError\u001b[0m                                  Traceback (most recent call last)",
      "Cell \u001b[1;32mIn[129], line 3\u001b[0m\n\u001b[0;32m      1\u001b[0m ultimate[\u001b[38;5;124m'\u001b[39m\u001b[38;5;124mSentiment\u001b[39m\u001b[38;5;124m'\u001b[39m]\u001b[38;5;241m=\u001b[39m\u001b[38;5;124m'\u001b[39m\u001b[38;5;124m'\u001b[39m\n\u001b[0;32m      2\u001b[0m \u001b[38;5;28;01mfor\u001b[39;00m i \u001b[38;5;129;01min\u001b[39;00m \u001b[38;5;28mrange\u001b[39m(\u001b[38;5;28mlen\u001b[39m(ultimate)):\n\u001b[1;32m----> 3\u001b[0m     \u001b[38;5;28;01mif\u001b[39;00m ultimate[\u001b[38;5;124m'\u001b[39m\u001b[38;5;124mRATING\u001b[39m\u001b[38;5;124m'\u001b[39m][i]\u001b[38;5;241m>\u001b[39m\u001b[38;5;241m=\u001b[39m\u001b[38;5;241m5\u001b[39m:\n\u001b[0;32m      4\u001b[0m         ultimate[\u001b[38;5;124m'\u001b[39m\u001b[38;5;124mSentiment\u001b[39m\u001b[38;5;124m'\u001b[39m][i]\u001b[38;5;241m=\u001b[39m\u001b[38;5;124m'\u001b[39m\u001b[38;5;124mpositive\u001b[39m\u001b[38;5;124m'\u001b[39m\n\u001b[0;32m      5\u001b[0m     \u001b[38;5;28;01melif\u001b[39;00m ultimate[\u001b[38;5;124m'\u001b[39m\u001b[38;5;124mRATING\u001b[39m\u001b[38;5;124m'\u001b[39m][i]\u001b[38;5;241m<\u001b[39m\u001b[38;5;241m5\u001b[39m:\n",
      "File \u001b[1;32m~\\anaconda3\\Lib\\site-packages\\pandas\\core\\frame.py:4102\u001b[0m, in \u001b[0;36mDataFrame.__getitem__\u001b[1;34m(self, key)\u001b[0m\n\u001b[0;32m   4100\u001b[0m \u001b[38;5;28;01mif\u001b[39;00m \u001b[38;5;28mself\u001b[39m\u001b[38;5;241m.\u001b[39mcolumns\u001b[38;5;241m.\u001b[39mnlevels \u001b[38;5;241m>\u001b[39m \u001b[38;5;241m1\u001b[39m:\n\u001b[0;32m   4101\u001b[0m     \u001b[38;5;28;01mreturn\u001b[39;00m \u001b[38;5;28mself\u001b[39m\u001b[38;5;241m.\u001b[39m_getitem_multilevel(key)\n\u001b[1;32m-> 4102\u001b[0m indexer \u001b[38;5;241m=\u001b[39m \u001b[38;5;28mself\u001b[39m\u001b[38;5;241m.\u001b[39mcolumns\u001b[38;5;241m.\u001b[39mget_loc(key)\n\u001b[0;32m   4103\u001b[0m \u001b[38;5;28;01mif\u001b[39;00m is_integer(indexer):\n\u001b[0;32m   4104\u001b[0m     indexer \u001b[38;5;241m=\u001b[39m [indexer]\n",
      "File \u001b[1;32m~\\anaconda3\\Lib\\site-packages\\pandas\\core\\indexes\\base.py:3812\u001b[0m, in \u001b[0;36mIndex.get_loc\u001b[1;34m(self, key)\u001b[0m\n\u001b[0;32m   3807\u001b[0m     \u001b[38;5;28;01mif\u001b[39;00m \u001b[38;5;28misinstance\u001b[39m(casted_key, \u001b[38;5;28mslice\u001b[39m) \u001b[38;5;129;01mor\u001b[39;00m (\n\u001b[0;32m   3808\u001b[0m         \u001b[38;5;28misinstance\u001b[39m(casted_key, abc\u001b[38;5;241m.\u001b[39mIterable)\n\u001b[0;32m   3809\u001b[0m         \u001b[38;5;129;01mand\u001b[39;00m \u001b[38;5;28many\u001b[39m(\u001b[38;5;28misinstance\u001b[39m(x, \u001b[38;5;28mslice\u001b[39m) \u001b[38;5;28;01mfor\u001b[39;00m x \u001b[38;5;129;01min\u001b[39;00m casted_key)\n\u001b[0;32m   3810\u001b[0m     ):\n\u001b[0;32m   3811\u001b[0m         \u001b[38;5;28;01mraise\u001b[39;00m InvalidIndexError(key)\n\u001b[1;32m-> 3812\u001b[0m     \u001b[38;5;28;01mraise\u001b[39;00m \u001b[38;5;167;01mKeyError\u001b[39;00m(key) \u001b[38;5;28;01mfrom\u001b[39;00m \u001b[38;5;21;01merr\u001b[39;00m\n\u001b[0;32m   3813\u001b[0m \u001b[38;5;28;01mexcept\u001b[39;00m \u001b[38;5;167;01mTypeError\u001b[39;00m:\n\u001b[0;32m   3814\u001b[0m     \u001b[38;5;66;03m# If we have a listlike key, _check_indexing_error will raise\u001b[39;00m\n\u001b[0;32m   3815\u001b[0m     \u001b[38;5;66;03m#  InvalidIndexError. Otherwise we fall through and re-raise\u001b[39;00m\n\u001b[0;32m   3816\u001b[0m     \u001b[38;5;66;03m#  the TypeError.\u001b[39;00m\n\u001b[0;32m   3817\u001b[0m     \u001b[38;5;28mself\u001b[39m\u001b[38;5;241m.\u001b[39m_check_indexing_error(key)\n",
      "\u001b[1;31mKeyError\u001b[0m: 'RATING'"
     ]
    }
   ],
   "source": [
    "ultimate['Sentiment']=''\n",
    "for i in range(len(ultimate)):\n",
    "    if ultimate['RATING'][i]>=5:\n",
    "        ultimate['Sentiment'][i]='positive'\n",
    "    elif ultimate['RATING'][i]<5:\n",
    "        ultimate['Sentiment'][i]='negative'\n",
    "        \n",
    "    "
   ]
  },
  {
   "cell_type": "code",
   "execution_count": 62,
   "id": "c94e8d8a-f7b8-490b-8c9e-dee7990d60ba",
   "metadata": {},
   "outputs": [],
   "source": [
    "ultimate=ultimate.drop(['RATING'],axis=1)"
   ]
  },
  {
   "cell_type": "code",
   "execution_count": 63,
   "id": "7d84d981-5da5-4f41-ad0c-3ab6e3a2e7c2",
   "metadata": {},
   "outputs": [
    {
     "data": {
      "text/html": [
       "<div>\n",
       "<style scoped>\n",
       "    .dataframe tbody tr th:only-of-type {\n",
       "        vertical-align: middle;\n",
       "    }\n",
       "\n",
       "    .dataframe tbody tr th {\n",
       "        vertical-align: top;\n",
       "    }\n",
       "\n",
       "    .dataframe thead th {\n",
       "        text-align: right;\n",
       "    }\n",
       "</style>\n",
       "<table border=\"1\" class=\"dataframe\">\n",
       "  <thead>\n",
       "    <tr style=\"text-align: right;\">\n",
       "      <th></th>\n",
       "      <th>REVIEW</th>\n",
       "      <th>Sentiment</th>\n",
       "    </tr>\n",
       "  </thead>\n",
       "  <tbody>\n",
       "    <tr>\n",
       "      <th>0</th>\n",
       "      <td>I cannot believe anyone could give this film l...</td>\n",
       "      <td>positive</td>\n",
       "    </tr>\n",
       "    <tr>\n",
       "      <th>1</th>\n",
       "      <td>Much better than the ratings suggest. Its on p...</td>\n",
       "      <td>positive</td>\n",
       "    </tr>\n",
       "    <tr>\n",
       "      <th>2</th>\n",
       "      <td>Okay so first I am a big fan of shark movies. ...</td>\n",
       "      <td>positive</td>\n",
       "    </tr>\n",
       "    <tr>\n",
       "      <th>3</th>\n",
       "      <td>Another shark tale.. But much better than most...</td>\n",
       "      <td>positive</td>\n",
       "    </tr>\n",
       "    <tr>\n",
       "      <th>4</th>\n",
       "      <td>All those that gave this less than a 5 are idi...</td>\n",
       "      <td>positive</td>\n",
       "    </tr>\n",
       "  </tbody>\n",
       "</table>\n",
       "</div>"
      ],
      "text/plain": [
       "                                              REVIEW Sentiment\n",
       "0  I cannot believe anyone could give this film l...  positive\n",
       "1  Much better than the ratings suggest. Its on p...  positive\n",
       "2  Okay so first I am a big fan of shark movies. ...  positive\n",
       "3  Another shark tale.. But much better than most...  positive\n",
       "4  All those that gave this less than a 5 are idi...  positive"
      ]
     },
     "execution_count": 63,
     "metadata": {},
     "output_type": "execute_result"
    }
   ],
   "source": [
    "ultimate.head()\n",
    "    "
   ]
  },
  {
   "cell_type": "code",
   "execution_count": 64,
   "id": "3eb59777-1705-4ed8-8ac5-136651471e8f",
   "metadata": {},
   "outputs": [
    {
     "data": {
      "text/plain": [
       "REVIEW       I cannot believe anyone could give this film l...\n",
       "Sentiment                                             positive\n",
       "Name: 0, dtype: object"
      ]
     },
     "execution_count": 64,
     "metadata": {},
     "output_type": "execute_result"
    }
   ],
   "source": [
    "ultimate.loc[0]"
   ]
  },
  {
   "cell_type": "code",
   "execution_count": 68,
   "id": "c0273a35-1835-4275-be56-4a8074c22074",
   "metadata": {},
   "outputs": [],
   "source": [
    "i = 0\n",
    "while i <= 48:\n",
    "    \n",
    "    row_a = ultimate.iloc[i].values.copy()\n",
    "    row_b = ultimate.iloc[50 + i].values.copy()\n",
    "    \n",
    "    \n",
    "    ultimate.iloc[i]          = row_b\n",
    "    ultimate.iloc[50 + i]     = row_a\n",
    "    \n",
    "    \n",
    "    i += 2"
   ]
  },
  {
   "cell_type": "code",
   "execution_count": 69,
   "id": "641096a3-d448-4d07-b11b-ef666e7a2713",
   "metadata": {},
   "outputs": [
    {
     "data": {
      "text/html": [
       "<div>\n",
       "<style scoped>\n",
       "    .dataframe tbody tr th:only-of-type {\n",
       "        vertical-align: middle;\n",
       "    }\n",
       "\n",
       "    .dataframe tbody tr th {\n",
       "        vertical-align: top;\n",
       "    }\n",
       "\n",
       "    .dataframe thead th {\n",
       "        text-align: right;\n",
       "    }\n",
       "</style>\n",
       "<table border=\"1\" class=\"dataframe\">\n",
       "  <thead>\n",
       "    <tr style=\"text-align: right;\">\n",
       "      <th></th>\n",
       "      <th>REVIEW</th>\n",
       "      <th>Sentiment</th>\n",
       "    </tr>\n",
       "  </thead>\n",
       "  <tbody>\n",
       "    <tr>\n",
       "      <th>0</th>\n",
       "      <td>At least well 2/3's of the movie, its grumpy m...</td>\n",
       "      <td>negative</td>\n",
       "    </tr>\n",
       "    <tr>\n",
       "      <th>1</th>\n",
       "      <td>Much better than the ratings suggest. Its on p...</td>\n",
       "      <td>positive</td>\n",
       "    </tr>\n",
       "    <tr>\n",
       "      <th>2</th>\n",
       "      <td>When u come to watch a typical shark movie , y...</td>\n",
       "      <td>negative</td>\n",
       "    </tr>\n",
       "    <tr>\n",
       "      <th>3</th>\n",
       "      <td>Another shark tale.. But much better than most...</td>\n",
       "      <td>positive</td>\n",
       "    </tr>\n",
       "    <tr>\n",
       "      <th>4</th>\n",
       "      <td>I am very impressed how a mouth to mouth under...</td>\n",
       "      <td>negative</td>\n",
       "    </tr>\n",
       "  </tbody>\n",
       "</table>\n",
       "</div>"
      ],
      "text/plain": [
       "                                              REVIEW Sentiment\n",
       "0  At least well 2/3's of the movie, its grumpy m...  negative\n",
       "1  Much better than the ratings suggest. Its on p...  positive\n",
       "2  When u come to watch a typical shark movie , y...  negative\n",
       "3  Another shark tale.. But much better than most...  positive\n",
       "4  I am very impressed how a mouth to mouth under...  negative"
      ]
     },
     "execution_count": 69,
     "metadata": {},
     "output_type": "execute_result"
    }
   ],
   "source": [
    "ultimate.head()"
   ]
  },
  {
   "cell_type": "code",
   "execution_count": 70,
   "id": "64f5aa22-0ebf-45cd-81f1-710c29e07c3d",
   "metadata": {},
   "outputs": [],
   "source": [
    "from sklearn.feature_extraction.text import CountVectorizer"
   ]
  },
  {
   "cell_type": "code",
   "execution_count": 76,
   "id": "b492df6f-4fee-4c4f-a378-2da93aa3b7da",
   "metadata": {},
   "outputs": [],
   "source": [
    "from sklearn.model_selection import train_test_split\n"
   ]
  },
  {
   "cell_type": "code",
   "execution_count": 77,
   "id": "5021106d-05cb-4858-982b-afa9b435018c",
   "metadata": {},
   "outputs": [],
   "source": [
    "vectorizer = CountVectorizer(max_features=500, stop_words=\"english\")"
   ]
  },
  {
   "cell_type": "code",
   "execution_count": 78,
   "id": "343ebea8-f942-417c-b9b1-c8632ffafb06",
   "metadata": {},
   "outputs": [],
   "source": [
    "X = vectorizer.fit_transform(ultimate[\"REVIEW\"].fillna(\"\").astype(str))"
   ]
  },
  {
   "cell_type": "code",
   "execution_count": 79,
   "id": "65c37071-334a-431f-ac36-ca3bfe51794a",
   "metadata": {},
   "outputs": [],
   "source": [
    "y=ultimate['Sentiment']"
   ]
  },
  {
   "cell_type": "code",
   "execution_count": 80,
   "id": "0f576fef-cfab-4789-b630-b4aceb297ba1",
   "metadata": {},
   "outputs": [],
   "source": [
    "X_train, X_test, y_train, y_test = train_test_split(\n",
    "    X,\n",
    "    y,\n",
    "    train_size=0.8,      \n",
    "    test_size=0.2,       \n",
    "    random_state=42,     \n",
    "    shuffle=True,        \n",
    "    stratify=y) "
   ]
  },
  {
   "cell_type": "code",
   "execution_count": 81,
   "id": "f30a19b4-07de-47c0-9945-d8ecaae73422",
   "metadata": {},
   "outputs": [],
   "source": [
    "from sklearn.naive_bayes import MultinomialNB\n",
    "from sklearn.metrics import accuracy_score, classification_report"
   ]
  },
  {
   "cell_type": "code",
   "execution_count": 82,
   "id": "2171a17e-5967-400a-97e3-248e77601742",
   "metadata": {},
   "outputs": [],
   "source": [
    "clf = MultinomialNB()\n",
    "\n",
    "\n",
    "clf.fit(X_train, y_train)\n",
    "\n",
    "\n",
    "y_pred = clf.predict(X_test)"
   ]
  },
  {
   "cell_type": "code",
   "execution_count": 83,
   "id": "5819bd26-180f-4606-9e38-bf38c6d1ee74",
   "metadata": {},
   "outputs": [
    {
     "name": "stdout",
     "output_type": "stream",
     "text": [
      "Test Accuracy: 0.7500\n"
     ]
    }
   ],
   "source": [
    "acc = accuracy_score(y_test, y_pred)\n",
    "print(f\"Test Accuracy: {acc:.4f}\")\n"
   ]
  },
  {
   "cell_type": "code",
   "execution_count": 84,
   "id": "f22bbd37-6b3b-4672-b83c-6fee32b01708",
   "metadata": {},
   "outputs": [
    {
     "name": "stdout",
     "output_type": "stream",
     "text": [
      "\n",
      "Classification Report:\n",
      "              precision    recall  f1-score   support\n",
      "\n",
      "    negative       0.86      0.60      0.71        10\n",
      "    positive       0.69      0.90      0.78        10\n",
      "\n",
      "    accuracy                           0.75        20\n",
      "   macro avg       0.77      0.75      0.74        20\n",
      "weighted avg       0.77      0.75      0.74        20\n",
      "\n"
     ]
    }
   ],
   "source": [
    "print(\"\\nClassification Report:\")\n",
    "print(classification_report(y_test, y_pred))"
   ]
  },
  {
   "cell_type": "code",
   "execution_count": 95,
   "id": "0ab27d9d-cc10-47d2-bf16-c4bbf4cf2a4d",
   "metadata": {},
   "outputs": [],
   "source": [
    "def predict_sentiment(review: str, model, vectorizer) -> str:\n",
    "    review_list = [review]\n",
    "    \n",
    "    \n",
    "\n",
    "    \n",
    "    X_vect = vectorizer.transform(review_list)\n",
    "\n",
    "    \n",
    "    pred = model.predict(X_vect)\n",
    "\n",
    "    \n",
    "    return pred[0]"
   ]
  },
  {
   "cell_type": "code",
   "execution_count": 103,
   "id": "2b23344f-a9a2-4202-8f98-478f30c38073",
   "metadata": {},
   "outputs": [
    {
     "name": "stdout",
     "output_type": "stream",
     "text": [
      "Predicted sentiment: positive\n"
     ]
    }
   ],
   "source": [
    "\n",
    "example = \"the product is good\"\n",
    "print(\"Predicted sentiment:\", predict_sentiment(example, clf, vectorizer))"
   ]
  },
  {
   "cell_type": "markdown",
   "id": "4c89a7a7-d928-44d4-84c0-f5e94c491c15",
   "metadata": {},
   "source": [
    "# 5"
   ]
  },
  {
   "cell_type": "code",
   "execution_count": 104,
   "id": "9620ecde-7532-447e-8684-b2c262677843",
   "metadata": {},
   "outputs": [],
   "source": [
    "from sklearn.feature_extraction.text import TfidfVectorizer"
   ]
  },
  {
   "cell_type": "code",
   "execution_count": 107,
   "id": "05da3e9c-00e5-4858-891f-69d08a6350bc",
   "metadata": {},
   "outputs": [],
   "source": [
    "vectorizer1 = TfidfVectorizer(max_features=300, stop_words=\"english\",lowercase=True)"
   ]
  },
  {
   "cell_type": "code",
   "execution_count": 108,
   "id": "6ce55547-e31a-4d87-b985-e4a4f223d1d8",
   "metadata": {},
   "outputs": [],
   "source": [
    "X = vectorizer1.fit_transform(ultimate[\"REVIEW\"].fillna(\"\").astype(str))"
   ]
  },
  {
   "cell_type": "code",
   "execution_count": 109,
   "id": "cfb98918-c0ab-4ab5-b2ce-e52eac1b6a1a",
   "metadata": {},
   "outputs": [],
   "source": [
    "y=ultimate['Sentiment']"
   ]
  },
  {
   "cell_type": "code",
   "execution_count": 110,
   "id": "758b2929-1183-4c93-865c-25214c11da22",
   "metadata": {},
   "outputs": [],
   "source": [
    "X_train, X_test, y_train, y_test = train_test_split(\n",
    "    X,\n",
    "    y,\n",
    "    train_size=0.75,      \n",
    "    test_size=0.25,       \n",
    "    random_state=42,     \n",
    "    shuffle=True,        \n",
    "    stratify=y)"
   ]
  },
  {
   "cell_type": "code",
   "execution_count": 111,
   "id": "3330da89-c793-410e-b35c-e490c71a28b1",
   "metadata": {},
   "outputs": [],
   "source": [
    "from sklearn.ensemble import RandomForestRegressor\n"
   ]
  },
  {
   "cell_type": "code",
   "execution_count": 117,
   "id": "508c99a4-86d9-4de0-8068-adfb230b3b6a",
   "metadata": {},
   "outputs": [],
   "source": [
    "# Example: Convert to binary numeric values\n",
    "y_train = y_train.replace({'positive': 1, 'negative': 0})\n",
    "y_test = y_test.replace({'positive': 1, 'negative': 0})\n"
   ]
  },
  {
   "cell_type": "code",
   "execution_count": 118,
   "id": "5c7a6e40-1133-4245-80c9-bbcb9c1fb5cb",
   "metadata": {},
   "outputs": [],
   "source": [
    "clf1 = RandomForestRegressor()\n",
    "\n",
    "\n",
    "clf1.fit(X_train, y_train)\n",
    "\n",
    "\n",
    "y_pred = clf1.predict(X_test)"
   ]
  },
  {
   "cell_type": "code",
   "execution_count": 120,
   "id": "3634f392-f2da-42f2-8484-adf1d13e9d59",
   "metadata": {},
   "outputs": [
    {
     "name": "stdout",
     "output_type": "stream",
     "text": [
      "Precision: 0.6470588235294118\n",
      "Recall: 0.9166666666666666\n",
      "F1 Score: 0.7586206896551724\n"
     ]
    }
   ],
   "source": [
    "from sklearn.metrics import precision_score, recall_score, f1_score\n",
    "\n",
    "y_pred = [1 if p >= 0.5 else 0 for p in y_pred]\n",
    "\n",
    "\n",
    "precision = precision_score(y_test, y_pred)\n",
    "recall = recall_score(y_test, y_pred)\n",
    "f1 = f1_score(y_test, y_pred)\n",
    "\n",
    "print(\"Precision:\", precision)\n",
    "print(\"Recall:\", recall)\n",
    "print(\"F1 Score:\", f1)\n"
   ]
  },
  {
   "cell_type": "code",
   "execution_count": 124,
   "id": "0efbd770-1376-40b4-9fd6-98917d4a0f33",
   "metadata": {},
   "outputs": [],
   "source": [
    "def vectorize_text(text, vectorizer):\n",
    "    if isinstance(text, str):\n",
    "        text = [text]  # convert single string to list\n",
    "    \n",
    "    return vectorizer.transform(text).toarray()"
   ]
  },
  {
   "cell_type": "code",
   "execution_count": 128,
   "id": "27b53578-7a95-46e5-9d37-bce33356917f",
   "metadata": {},
   "outputs": [
    {
     "data": {
      "text/plain": [
       "array([[0., 0., 0., 0., 0., 0., 0., 0., 0., 0., 0., 0., 0., 0., 0., 0.,\n",
       "        0., 0., 0., 0., 0., 0., 0., 0., 1., 0., 0., 0., 0., 0., 0., 0.,\n",
       "        0., 0., 0., 0., 0., 0., 0., 0., 0., 0., 0., 0., 0., 0., 0., 0.,\n",
       "        0., 0., 0., 0., 0., 0., 0., 0., 0., 0., 0., 0., 0., 0., 0., 0.,\n",
       "        0., 0., 0., 0., 0., 0., 0., 0., 0., 0., 0., 0., 0., 0., 0., 0.,\n",
       "        0., 0., 0., 0., 0., 0., 0., 0., 0., 0., 0., 0., 0., 0., 0., 0.,\n",
       "        0., 0., 0., 0., 0., 0., 0., 0., 0., 0., 0., 0., 0., 0., 0., 0.,\n",
       "        0., 0., 0., 0., 0., 0., 0., 0., 0., 0., 0., 0., 0., 0., 0., 0.,\n",
       "        0., 0., 0., 0., 0., 0., 0., 0., 0., 0., 0., 0., 0., 0., 0., 0.,\n",
       "        0., 0., 0., 0., 0., 0., 0., 0., 0., 0., 0., 0., 0., 0., 0., 0.,\n",
       "        0., 0., 0., 0., 0., 0., 0., 0., 0., 0., 0., 0., 0., 0., 0., 0.,\n",
       "        0., 0., 0., 0., 0., 0., 0., 0., 0., 0., 0., 0., 0., 0., 0., 0.,\n",
       "        0., 0., 0., 0., 0., 0., 0., 0., 0., 0., 0., 0., 0., 0., 0., 0.,\n",
       "        0., 0., 0., 0., 0., 0., 0., 0., 0., 0., 0., 0., 0., 0., 0., 0.,\n",
       "        0., 0., 0., 0., 0., 0., 0., 0., 0., 0., 0., 0., 0., 0., 0., 0.,\n",
       "        0., 0., 0., 0., 0., 0., 0., 0., 0., 0., 0., 0., 0., 0., 0., 0.,\n",
       "        0., 0., 0., 0., 0., 0., 0., 0., 0., 0., 0., 0., 0., 0., 0., 0.,\n",
       "        0., 0., 0., 0., 0., 0., 0., 0., 0., 0., 0., 0., 0., 0., 0., 0.,\n",
       "        0., 0., 0., 0., 0., 0., 0., 0., 0., 0., 0., 0.]])"
      ]
     },
     "execution_count": 128,
     "metadata": {},
     "output_type": "execute_result"
    }
   ],
   "source": [
    "text1='the product is  beautiful '\n",
    "vectorize_text(text1,vectorizer1)"
   ]
  },
  {
   "cell_type": "code",
   "execution_count": null,
   "id": "e480ac9a-9c78-4522-b0b0-01135189eee6",
   "metadata": {},
   "outputs": [],
   "source": []
  }
 ],
 "metadata": {
  "kernelspec": {
   "display_name": "Python 3 (ipykernel)",
   "language": "python",
   "name": "python3"
  },
  "language_info": {
   "codemirror_mode": {
    "name": "ipython",
    "version": 3
   },
   "file_extension": ".py",
   "mimetype": "text/x-python",
   "name": "python",
   "nbconvert_exporter": "python",
   "pygments_lexer": "ipython3",
   "version": "3.12.7"
  }
 },
 "nbformat": 4,
 "nbformat_minor": 5
}
